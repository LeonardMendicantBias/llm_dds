{
 "cells": [
  {
   "cell_type": "code",
   "execution_count": 1,
   "metadata": {},
   "outputs": [],
   "source": [
    "import torch\n",
    "import torch.nn.functional as F\n",
    "\n",
    "from numpy import random\n",
    "\n",
    "from transformers import AutoTokenizer, AutoModelForCausalLM, BitsAndBytesConfig"
   ]
  },
  {
   "cell_type": "markdown",
   "metadata": {},
   "source": [
    "Network"
   ]
  },
  {
   "cell_type": "code",
   "execution_count": 2,
   "metadata": {},
   "outputs": [],
   "source": [
    "model_name = \"meta-llama/Llama-3.2-1B\"\n",
    "\n",
    "quant_config = BitsAndBytesConfig(\n",
    "    load_in_4bit=True,\n",
    "    # bnb_4bit_compute_dtype=torch.float16,  # Ensure computation type matches input type\n",
    "    bnb_4bit_compute_dtype=torch.bfloat16,  # Use bfloat16 for better performance\n",
    "    bnb_4bit_use_double_quant=True,  # Double quantization for memory efficiency\n",
    ")\n",
    "llm = AutoModelForCausalLM.from_pretrained(\n",
    "    model_name,\n",
    "    quantization_config=quant_config,\n",
    "    # device_map=torch.device(\"cuda\"),\n",
    "    device_map=\"auto\"\n",
    ")\n",
    "llm.eval()\n",
    "\n",
    "tokenizer = AutoTokenizer.from_pretrained(model_name)"
   ]
  },
  {
   "cell_type": "markdown",
   "metadata": {},
   "source": [
    "Configuration"
   ]
  },
  {
   "cell_type": "code",
   "execution_count": 16,
   "metadata": {},
   "outputs": [],
   "source": [
    "CONTEXT_SIZE = 64"
   ]
  },
  {
   "cell_type": "code",
   "execution_count": 4,
   "metadata": {},
   "outputs": [],
   "source": [
    "def pad(tokens, padding_val):\n",
    "    pad_len = CONTEXT_SIZE - tokens.shape[0] % CONTEXT_SIZE\n",
    "\n",
    "    pads = torch.full([pad_len], padding_val, device=tokens.device)\n",
    "    padded_tokens = torch.cat([tokens, pads])\n",
    "\n",
    "    return padded_tokens, pad_len\n",
    "\n",
    "def text_to_tokens(text):\n",
    "    tokens = tokenizer(text, return_tensors=\"pt\")\n",
    "    return tokens[\"input_ids\"].squeeze()\n",
    "\n",
    "def get_rank(logits, indices):\n",
    "   selected_logits = logits.gather(-1, indices[..., None]).squeeze(-1)\n",
    "   return (logits > selected_logits[..., None]).sum(-1).int()\n",
    "\n",
    "def argsort_solution(logits, targets):\n",
    "    sort = torch.argsort(-logits, -1)\n",
    "    return torch.where(sort == targets[:, None])[1]\n",
    "\n",
    "def get_token_by_rank(logits, ranks): ...\n"
   ]
  },
  {
   "cell_type": "code",
   "execution_count": 17,
   "metadata": {},
   "outputs": [
    {
     "name": "stdout",
     "output_type": "stream",
     "text": [
      "String length: 233\n"
     ]
    }
   ],
   "source": [
    "# s = \"The quick brown fox jumps over the lazy dog.\"\n",
    "\n",
    "s = \":\".join(\n",
    "    str(x)\n",
    "    for x in random.randint(0, 5000, (50,)).tolist()\n",
    ")\n",
    "\n",
    "print(\"String length:\", len(s))"
   ]
  },
  {
   "cell_type": "markdown",
   "metadata": {},
   "source": [
    "Encoding"
   ]
  },
  {
   "cell_type": "code",
   "execution_count": 18,
   "metadata": {},
   "outputs": [
    {
     "ename": "KeyboardInterrupt",
     "evalue": "",
     "output_type": "error",
     "traceback": [
      "\u001b[0;31m---------------------------------------------------------------------------\u001b[0m",
      "\u001b[0;31mKeyboardInterrupt\u001b[0m                         Traceback (most recent call last)",
      "Cell \u001b[0;32mIn[18], line 16\u001b[0m\n\u001b[1;32m     13\u001b[0m     past_key_values \u001b[38;5;241m=\u001b[39m next_tokens\u001b[38;5;241m.\u001b[39mpast_key_values\n\u001b[1;32m     15\u001b[0m     \u001b[38;5;66;03m# rank = get_rank(next_tokens.logits[:, -1, :], tokens[:, idx+1].cuda())\u001b[39;00m\n\u001b[0;32m---> 16\u001b[0m     rank \u001b[38;5;241m=\u001b[39m argsort_solution(next_tokens\u001b[38;5;241m.\u001b[39mlogits[:, \u001b[38;5;241m-\u001b[39m\u001b[38;5;241m1\u001b[39m, :], \u001b[43mtokens\u001b[49m\u001b[43m[\u001b[49m\u001b[43m:\u001b[49m\u001b[43m,\u001b[49m\u001b[43m \u001b[49m\u001b[43midx\u001b[49m\u001b[38;5;241;43m+\u001b[39;49m\u001b[38;5;241;43m1\u001b[39;49m\u001b[43m]\u001b[49m\u001b[38;5;241;43m.\u001b[39;49m\u001b[43mcuda\u001b[49m\u001b[43m(\u001b[49m\u001b[43m)\u001b[49m)\n\u001b[1;32m     17\u001b[0m     ranks[:, idx] \u001b[38;5;241m=\u001b[39m rank\n\u001b[1;32m     19\u001b[0m \u001b[38;5;66;03m# next_tokens = llm(tokens.cuda())\u001b[39;00m\n",
      "\u001b[0;31mKeyboardInterrupt\u001b[0m: "
     ]
    }
   ],
   "source": [
    "tokens = text_to_tokens(s) \n",
    "\n",
    "tokens, pad_len = pad(tokens[1:], tokenizer.eos_token_id)\n",
    "tokens = tokens.view(-1, CONTEXT_SIZE)\n",
    "\n",
    "bos = torch.full([tokens.shape[0]], tokenizer.bos_token_id, device=tokens.device).unsqueeze(1)\n",
    "tokens = torch.cat((bos, tokens), 1)\n",
    "\n",
    "ranks = torch.empty_like(tokens[:, :-1])\n",
    "past_key_values = None\n",
    "for idx in range(CONTEXT_SIZE):\n",
    "    next_tokens = llm(tokens[:, :idx+1].cuda(), past_key_values=past_key_values)\n",
    "    past_key_values = next_tokens.past_key_values\n",
    "    \n",
    "    # rank = get_rank(next_tokens.logits[:, -1, :], tokens[:, idx+1].cuda())\n",
    "    rank = argsort_solution(next_tokens.logits[:, -1, :], tokens[:, idx+1].cuda())\n",
    "    ranks[:, idx] = rank\n",
    "\n",
    "# next_tokens = llm(tokens.cuda())\n",
    "\n",
    "torch.cuda.empty_cache()\n",
    "tokens.shape, ranks.shape"
   ]
  },
  {
   "cell_type": "markdown",
   "metadata": {},
   "source": [
    "Decoding"
   ]
  },
  {
   "cell_type": "code",
   "execution_count": 13,
   "metadata": {},
   "outputs": [
    {
     "data": {
      "text/plain": [
       "tensor([[128000,    791,   4027,  61871,    520,    420,   4027,  61871,    482],\n",
       "        [128000,   5679,     13, 128001, 128001, 128001, 128001,   8161,  43757]],\n",
       "       device='cuda:0')"
      ]
     },
     "execution_count": 13,
     "metadata": {},
     "output_type": "execute_result"
    }
   ],
   "source": [
    "input_ids = torch.tensor([[tokenizer.bos_token_id]]*ranks.shape[0], device=tokens.device)\n",
    "\n",
    "with torch.no_grad():\n",
    "    past_key_values = None\n",
    "    for idx in range(CONTEXT_SIZE):\n",
    "        output = llm(input_ids.cuda(), past_key_values=past_key_values, top_k=1)\n",
    "        past_key_values = output.past_key_values\n",
    "\n",
    "        logits = output.logits[:, -1, :]  # shape: (n_chunks, vocab)\n",
    "        logits, sorted_tokens = torch.sort(logits, descending=True)\n",
    "\n",
    "        next_token_id = sorted_tokens.gather(-1, ranks.cuda()[:, idx].unsqueeze(-1))\n",
    "\n",
    "        input_ids = torch.cat([input_ids.cuda(), next_token_id], dim=1)\n",
    "input_ids"
   ]
  },
  {
   "cell_type": "code",
   "execution_count": 14,
   "metadata": {},
   "outputs": [
    {
     "name": "stdout",
     "output_type": "stream",
     "text": [
      "\n",
      "Final generated sequence:\n",
      " The fire marshal at this fire marshal - dog.\n"
     ]
    }
   ],
   "source": [
    "output = input_ids[:, 1:].flatten()\n",
    "generated_text = tokenizer.decode(output[:-pad_len], skip_special_tokens=True)\n",
    "print(\"\\nFinal generated sequence:\\n\", generated_text)"
   ]
  },
  {
   "cell_type": "code",
   "execution_count": null,
   "metadata": {},
   "outputs": [],
   "source": []
  }
 ],
 "metadata": {
  "kernelspec": {
   "display_name": "llm",
   "language": "python",
   "name": "python3"
  },
  "language_info": {
   "codemirror_mode": {
    "name": "ipython",
    "version": 3
   },
   "file_extension": ".py",
   "mimetype": "text/x-python",
   "name": "python",
   "nbconvert_exporter": "python",
   "pygments_lexer": "ipython3",
   "version": "3.10.16"
  }
 },
 "nbformat": 4,
 "nbformat_minor": 2
}
