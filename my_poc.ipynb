{
 "cells": [
  {
   "cell_type": "code",
   "execution_count": 1,
   "metadata": {},
   "outputs": [],
   "source": [
    "import torch\n",
    "import torch.nn.functional as F\n",
    "\n",
    "from numpy import random\n",
    "\n",
    "from transformers import AutoTokenizer, AutoModelForCausalLM, BitsAndBytesConfig"
   ]
  },
  {
   "cell_type": "markdown",
   "metadata": {},
   "source": [
    "Network"
   ]
  },
  {
   "cell_type": "code",
   "execution_count": 109,
   "metadata": {},
   "outputs": [],
   "source": [
    "model_name = \"meta-llama/Llama-3.2-1B\"\n",
    "\n",
    "quant_config = BitsAndBytesConfig(\n",
    "    load_in_4bit=True,\n",
    "    # bnb_4bit_compute_dtype=torch.float16,  # Ensure computation type matches input type\n",
    "    bnb_4bit_compute_dtype=torch.bfloat16,  # Use bfloat16 for better performance\n",
    "    bnb_4bit_use_double_quant=True,  # Double quantization for memory efficiency\n",
    ")\n",
    "llm = AutoModelForCausalLM.from_pretrained(\n",
    "    model_name,\n",
    "    # quantization_config=quant_config,\n",
    "    # device_map=torch.device(\"cuda\"),\n",
    "    device_map=\"auto\"\n",
    ")\n",
    "llm.eval()\n",
    "\n",
    "tokenizer = AutoTokenizer.from_pretrained(model_name)"
   ]
  },
  {
   "cell_type": "markdown",
   "metadata": {},
   "source": [
    "Configuration"
   ]
  },
  {
   "cell_type": "code",
   "execution_count": 3,
   "metadata": {},
   "outputs": [],
   "source": [
    "CONTEXT_SIZE = 8"
   ]
  },
  {
   "cell_type": "code",
   "execution_count": null,
   "metadata": {},
   "outputs": [],
   "source": [
    "def pad(tokens, padding_val):\n",
    "    pad_len = CONTEXT_SIZE - tokens.shape[0] % CONTEXT_SIZE\n",
    "\n",
    "    pads = torch.full([pad_len], padding_val, device=tokens.device)\n",
    "    padded_tokens = torch.cat([tokens, pads])\n",
    "\n",
    "    return padded_tokens, pad_len\n",
    "\n",
    "def text_to_tokens(text):\n",
    "    tokens = tokenizer(text, return_tensors=\"pt\")\n",
    "    return tokens[\"input_ids\"].squeeze()\n",
    "\n",
    "def get_rank(logits, indices):\n",
    "   selected_logits = logits.gather(-1, indices[..., None]).squeeze(-1)\n",
    "   return (logits > selected_logits[..., None]).long().sum(-1)\n",
    "\n",
    "def get_token_by_rank(logits, ranks): ...\n"
   ]
  },
  {
   "cell_type": "code",
   "execution_count": 102,
   "metadata": {},
   "outputs": [
    {
     "name": "stdout",
     "output_type": "stream",
     "text": [
      "String length: 44\n"
     ]
    }
   ],
   "source": [
    "s = \"The quick brown fox jumps over the lazy dog.\"\n",
    "\n",
    "# s = \":\".join(\n",
    "#     str(x)\n",
    "#     for x in random.randint(0, 5000, (50,)).tolist()\n",
    "# )\n",
    "\n",
    "print(\"String length:\", len(s))"
   ]
  },
  {
   "cell_type": "markdown",
   "metadata": {},
   "source": [
    "Encoding"
   ]
  },
  {
   "cell_type": "code",
   "execution_count": 58,
   "metadata": {},
   "outputs": [
    {
     "data": {
      "text/plain": [
       "torch.Size([2, 9])"
      ]
     },
     "execution_count": 58,
     "metadata": {},
     "output_type": "execute_result"
    }
   ],
   "source": [
    "tokens.shape"
   ]
  },
  {
   "cell_type": "code",
   "execution_count": 110,
   "metadata": {},
   "outputs": [
    {
     "data": {
      "text/plain": [
       "(torch.Size([2, 9]), torch.Size([2, 8]))"
      ]
     },
     "execution_count": 110,
     "metadata": {},
     "output_type": "execute_result"
    }
   ],
   "source": [
    "tokens = text_to_tokens(s) \n",
    "\n",
    "tokens, pad_len = pad(tokens[1:], tokenizer.eos_token_id)\n",
    "tokens = tokens.view(-1, CONTEXT_SIZE)\n",
    "\n",
    "bos = torch.full([tokens.shape[0]], tokenizer.bos_token_id, device=tokens.device).unsqueeze(1)\n",
    "tokens = torch.cat((bos, tokens), 1)\n",
    "\n",
    "ranks = torch.empty_like(tokens[:, :-1])\n",
    "past_key_values = None\n",
    "for idx in range(CONTEXT_SIZE):\n",
    "    next_tokens = llm(tokens[:, :idx+1].cuda(), past_key_values=past_key_values)\n",
    "    past_key_values = next_tokens.past_key_values\n",
    "    \n",
    "    rank = get_rank(next_tokens.logits[:, -1, :], tokens[:, idx+1].cuda())\n",
    "    ranks[:, idx] = rank\n",
    "\n",
    "# next_tokens = llm(tokens.cuda())\n",
    "\n",
    "torch.cuda.empty_cache()\n",
    "tokens.shape, ranks.shape"
   ]
  },
  {
   "cell_type": "code",
   "execution_count": 111,
   "metadata": {},
   "outputs": [
    {
     "name": "stdout",
     "output_type": "stream",
     "text": [
      "tensor([[128000,    791,   4062,  14198,  39935,  35308,    927,    279,  16053],\n",
      "        [128000,   5679,     13, 128001, 128001, 128001, 128001, 128001, 128001]])\n",
      "tensor([[    3,  1629,    25,     0,    12,     0,     0,    12],\n",
      "        [37690,     9, 14633,   231,   266,   296,   299,   252]])\n"
     ]
    }
   ],
   "source": [
    "print(tokens)\n",
    "print(ranks)"
   ]
  },
  {
   "cell_type": "markdown",
   "metadata": {},
   "source": [
    "Decoding"
   ]
  },
  {
   "cell_type": "code",
   "execution_count": 112,
   "metadata": {},
   "outputs": [
    {
     "data": {
      "text/plain": [
       "tensor([[128000,    791,   4062,  14198,  39935,  35308,    927,    279,  16053],\n",
       "        [128000,   5679,     13, 128001, 128001, 128001, 128001, 128001, 128001]],\n",
       "       device='cuda:0')"
      ]
     },
     "execution_count": 112,
     "metadata": {},
     "output_type": "execute_result"
    }
   ],
   "source": [
    "input_ids = torch.tensor([[tokenizer.bos_token_id]]*ranks.shape[0], device=tokens.device)\n",
    "\n",
    "with torch.no_grad():\n",
    "    past_key_values = None\n",
    "    for idx in range(CONTEXT_SIZE):\n",
    "        output = llm(input_ids.cuda(), past_key_values=past_key_values, top_k=1)\n",
    "        past_key_values = output.past_key_values\n",
    "\n",
    "        logits = output.logits[:, -1, :]  # shape: (n_chunks, vocab)\n",
    "        logits, sorted_tokens = torch.sort(logits, descending=True)\n",
    "\n",
    "        next_token_id = sorted_tokens.gather(-1, ranks.cuda()[:, idx].unsqueeze(-1))\n",
    "\n",
    "        input_ids = torch.cat([input_ids.cuda(), next_token_id], dim=1)\n",
    "input_ids"
   ]
  },
  {
   "cell_type": "code",
   "execution_count": 113,
   "metadata": {},
   "outputs": [
    {
     "name": "stdout",
     "output_type": "stream",
     "text": [
      "\n",
      "Final generated sequence:\n",
      " The quick brown fox jumps over the lazy dog.\n"
     ]
    }
   ],
   "source": [
    "output = input_ids[:, 1:].flatten()\n",
    "generated_text = tokenizer.decode(output[:-pad_len], skip_special_tokens=True)\n",
    "print(\"\\nFinal generated sequence:\\n\", generated_text)"
   ]
  },
  {
   "cell_type": "code",
   "execution_count": null,
   "metadata": {},
   "outputs": [],
   "source": [
    "s"
   ]
  },
  {
   "cell_type": "code",
   "execution_count": null,
   "metadata": {},
   "outputs": [],
   "source": []
  }
 ],
 "metadata": {
  "kernelspec": {
   "display_name": "llm",
   "language": "python",
   "name": "python3"
  },
  "language_info": {
   "codemirror_mode": {
    "name": "ipython",
    "version": 3
   },
   "file_extension": ".py",
   "mimetype": "text/x-python",
   "name": "python",
   "nbconvert_exporter": "python",
   "pygments_lexer": "ipython3",
   "version": "3.10.16"
  }
 },
 "nbformat": 4,
 "nbformat_minor": 2
}
