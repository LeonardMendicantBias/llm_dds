{
 "cells": [
  {
   "cell_type": "code",
   "execution_count": 1,
   "metadata": {},
   "outputs": [],
   "source": [
    "from typing import List\n",
    "\n",
    "import torch\n",
    "import torch.nn.functional as F\n",
    "\n",
    "from numpy import random\n",
    "import bz2\n",
    "\n",
    "from transformers import AutoTokenizer, AutoModelForCausalLM, BitsAndBytesConfig"
   ]
  },
  {
   "cell_type": "markdown",
   "metadata": {},
   "source": [
    "Network"
   ]
  },
  {
   "cell_type": "code",
   "execution_count": 2,
   "metadata": {},
   "outputs": [],
   "source": [
    "model_name = \"meta-llama/Llama-3.2-1B\"\n",
    "\n",
    "quant_config = BitsAndBytesConfig(\n",
    "    load_in_4bit=True,\n",
    "    bnb_4bit_compute_dtype=torch.bfloat16,\n",
    "    bnb_4bit_use_double_quant=True,\n",
    ")\n",
    "llm = AutoModelForCausalLM.from_pretrained(\n",
    "    model_name,\n",
    "    torch_dtype=torch.bfloat16,\n",
    "    quantization_config=quant_config,\n",
    "    # device_map=torch.device(\"cuda\"),\n",
    "    device_map=\"auto\"\n",
    ")\n",
    "llm.eval()\n",
    "\n",
    "tokenizer = AutoTokenizer.from_pretrained(model_name)"
   ]
  },
  {
   "cell_type": "markdown",
   "metadata": {},
   "source": [
    "Configuration"
   ]
  },
  {
   "cell_type": "code",
   "execution_count": null,
   "metadata": {},
   "outputs": [
    {
     "name": "stdout",
     "output_type": "stream",
     "text": [
      "mask torch.Size([2, 8]) torch.Size([2, 8])\n"
     ]
    },
    {
     "ename": "AssertionError",
     "evalue": "incorrect (de)-compression \n Expected: The quick brown fox jumps over the lazy dog. \n Got: import connPool\nfrom conn import *\n adult coloring",
     "output_type": "error",
     "traceback": [
      "\u001b[0;31m---------------------------------------------------------------------------\u001b[0m",
      "\u001b[0;31mAssertionError\u001b[0m                            Traceback (most recent call last)",
      "Cell \u001b[0;32mIn[36], line 118\u001b[0m\n\u001b[1;32m    113\u001b[0m llm_zip \u001b[38;5;241m=\u001b[39m LLMCompression(\n\u001b[1;32m    114\u001b[0m     llm_name\u001b[38;5;241m=\u001b[39m\u001b[38;5;124m\"\u001b[39m\u001b[38;5;124mmeta-llama/Llama-3.2-1B\u001b[39m\u001b[38;5;124m\"\u001b[39m,\n\u001b[1;32m    115\u001b[0m     context_size\u001b[38;5;241m=\u001b[39m\u001b[38;5;241m8\u001b[39m\n\u001b[1;32m    116\u001b[0m )\n\u001b[1;32m    117\u001b[0m s \u001b[38;5;241m=\u001b[39m \u001b[38;5;124m\"\u001b[39m\u001b[38;5;124mThe quick brown fox jumps over the lazy dog.\u001b[39m\u001b[38;5;124m\"\u001b[39m\n\u001b[0;32m--> 118\u001b[0m rank, pad_len \u001b[38;5;241m=\u001b[39m \u001b[43mllm_zip\u001b[49m\u001b[38;5;241;43m.\u001b[39;49m\u001b[43mevaluate\u001b[49m\u001b[43m(\u001b[49m\u001b[43ms\u001b[49m\u001b[43m)\u001b[49m\n",
      "Cell \u001b[0;32mIn[36], line 99\u001b[0m, in \u001b[0;36mLLMCompression.evaluate\u001b[0;34m(self, s)\u001b[0m\n\u001b[1;32m     96\u001b[0m torch\u001b[38;5;241m.\u001b[39mcuda\u001b[38;5;241m.\u001b[39mempty_cache()\n\u001b[1;32m     98\u001b[0m s_hat \u001b[38;5;241m=\u001b[39m \u001b[38;5;28mself\u001b[39m\u001b[38;5;241m.\u001b[39mdecode(rank, pad_len)\n\u001b[0;32m---> 99\u001b[0m \u001b[38;5;28;01massert\u001b[39;00m s_hat \u001b[38;5;241m==\u001b[39m s, \u001b[38;5;124mf\u001b[39m\u001b[38;5;124m\"\u001b[39m\u001b[38;5;124mincorrect (de)-compression \u001b[39m\u001b[38;5;130;01m\\n\u001b[39;00m\u001b[38;5;124m Expected: \u001b[39m\u001b[38;5;132;01m{\u001b[39;00ms\u001b[38;5;132;01m}\u001b[39;00m\u001b[38;5;124m \u001b[39m\u001b[38;5;130;01m\\n\u001b[39;00m\u001b[38;5;124m Got: \u001b[39m\u001b[38;5;132;01m{\u001b[39;00ms_hat\u001b[38;5;132;01m}\u001b[39;00m\u001b[38;5;124m\"\u001b[39m\n\u001b[1;32m    101\u001b[0m compressed_s \u001b[38;5;241m=\u001b[39m bz2\u001b[38;5;241m.\u001b[39mcompress(s\u001b[38;5;241m.\u001b[39mencode(\u001b[38;5;124m'\u001b[39m\u001b[38;5;124mutf-8\u001b[39m\u001b[38;5;124m'\u001b[39m))\n\u001b[1;32m    102\u001b[0m _rank \u001b[38;5;241m=\u001b[39m rank\u001b[38;5;241m.\u001b[39mflatten()\n",
      "\u001b[0;31mAssertionError\u001b[0m: incorrect (de)-compression \n Expected: The quick brown fox jumps over the lazy dog. \n Got: import connPool\nfrom conn import *\n adult coloring"
     ]
    }
   ],
   "source": [
    "class LLMCompression:\n",
    "\n",
    "    def __init__(self,\n",
    "        llm_name: str,\n",
    "        context_size: int, # context_window: int,\n",
    "    ):\n",
    "        self.llm_name = llm_name\n",
    "        quant_config = BitsAndBytesConfig(\n",
    "            load_in_4bit=True,\n",
    "            bnb_4bit_compute_dtype=torch.bfloat16,  # Use bfloat16 for better performance\n",
    "            bnb_4bit_use_double_quant=True,  # Double quantization for memory efficiency\n",
    "        )\n",
    "        self.llm = AutoModelForCausalLM.from_pretrained(\n",
    "            llm_name,\n",
    "            quantization_config=quant_config,\n",
    "            # device_map=torch.device(\"cuda\"),\n",
    "            device_map=\"auto\"\n",
    "        )\n",
    "        self.llm.eval()\n",
    "        self.tokenizer = AutoTokenizer.from_pretrained(llm_name)\n",
    "\n",
    "        self.context_size = context_size\n",
    "    \n",
    "    def _pad(self, tokens):\n",
    "        if tokens.shape[0] % self.context_size == 0:\n",
    "            return tokens, torch.zeros(tokens.shape[0], device=tokens.device)\n",
    "        pad_len = self.context_size - tokens.shape[0] % self.context_size\n",
    "\n",
    "        pads = torch.full([pad_len], self.tokenizer.eos_token_id, device=tokens.device)\n",
    "        padded_tokens = torch.cat([tokens, pads])\n",
    "\n",
    "        return padded_tokens, pad_len\n",
    "    \n",
    "    # rank from \"stable\" sort\n",
    "    def _get_rank(self, logits, token_ids):  # (B, N, V) (B, N)\n",
    "        # count the strictly the number of greater values\n",
    "        selected_logits = logits.gather(-1, token_ids[..., None]).squeeze(-1)\n",
    "        n_gt = (logits > selected_logits[..., None]).sum(-1)  # (B, N)\n",
    "\n",
    "        # \"mimic\" stable sorting\n",
    "        eq = (logits == selected_logits[..., None])  # (B, N, V)\n",
    "        mask = torch.arange(logits.shape[1], device=logits.device).unsqueeze(0) < token_ids\n",
    "        print(\"mask\", mask.shape, token_ids.shape)\n",
    "        n_eq = (eq*mask.unsqueeze(-1)).sum(-1)\n",
    "        print(n_eq.shape)\n",
    "\n",
    "        return n_gt + n_eq\n",
    "    \n",
    "    def argsort_solution(self, logits, targets):\n",
    "        sort = torch.argsort(-logits, -1)\n",
    "        return torch.where(sort == targets[..., None])[1]\n",
    "\n",
    "    @torch.no_grad\n",
    "    def encode(self, s):\n",
    "        tokens = self.tokenizer(s, return_tensors=\"pt\")\n",
    "        tokens = tokens[\"input_ids\"].squeeze()\n",
    "        tokens = tokens.to(self.llm.device)\n",
    "\n",
    "        tokens, pad_len = self._pad(tokens[1:])\n",
    "        tokens = tokens.view(-1, self.context_size)\n",
    "\n",
    "        bos = torch.full([tokens.shape[0]], self.tokenizer.bos_token_id, device=tokens.device).unsqueeze(1)\n",
    "        tokens = torch.cat((bos, tokens), 1)\n",
    "\n",
    "        # ranks = torch.empty_like(tokens[:, :-1])\n",
    "        # for idx in range(self.context_size):\n",
    "        #     next_tokens = self.llm(tokens[:, :idx+1])\n",
    "            \n",
    "        #     rank = self.argsort_solution(next_tokens.logits[:, -1, :], tokens[:, idx+1])\n",
    "        #     ranks[:, idx] = rank\n",
    "\n",
    "        output = self.llm(tokens[:, :-1])\n",
    "        ranks = self._get_rank(output.logits, tokens[:, 1:])\n",
    "\n",
    "        return ranks, pad_len\n",
    "\n",
    "    @torch.no_grad\n",
    "    def decode(self, rank: List[int], pad_len: int):\n",
    "        generated_ids = torch.full((rank.shape[0], 1), tokenizer.bos_token_id, device=rank.device)\n",
    "        \n",
    "        for idx in range(self.context_size):\n",
    "            output = self.llm(generated_ids)\n",
    "\n",
    "            logits = output.logits[:, -1, :]  # shape: (n_chunks, vocab)\n",
    "            logits, sorted_tokens = torch.sort(logits, descending=True, stable=True)\n",
    "\n",
    "            next_token_id = sorted_tokens.gather(-1, rank[:, idx].unsqueeze(-1))\n",
    "\n",
    "            generated_ids = torch.cat([generated_ids, next_token_id], dim=1)\n",
    "\n",
    "        output = generated_ids[:, 1:].flatten()\n",
    "        return tokenizer.decode(output[:-pad_len], skip_special_tokens=True)\n",
    "\n",
    "    def evaluate(self, s):\n",
    "        rank, pad_len = self.encode(s)\n",
    "        torch.cuda.empty_cache()\n",
    "\n",
    "        s_hat = self.decode(rank, pad_len)\n",
    "        assert s_hat == s, f\"incorrect (de)-compression \\n Expected: {s} \\n Got: {s_hat}\"\n",
    "\n",
    "        compressed_s = bz2.compress(s.encode('utf-8'))\n",
    "        _rank = rank.flatten()\n",
    "        compressed_s_hat = bz2.compress(_rank.cpu().numpy().tobytes())\n",
    "\n",
    "        # Get the size of the compressed data\n",
    "        s_size = len(compressed_s)\n",
    "        s_hat_size = len(compressed_s_hat)\n",
    "        # print(s_hat_size, s_size)\n",
    "        print(f\"Compression ratio: {(s_hat_size / s_size)*100:.4f}\")\n",
    "\n",
    "        return _rank, pad_len\n",
    "\n",
    "llm_zip = LLMCompression(\n",
    "    llm_name=\"meta-llama/Llama-3.2-1B\",\n",
    "    context_size=8\n",
    ")\n",
    "s = \"The quick brown fox jumps over the lazy dog.\"\n",
    "rank, pad_len = llm_zip.evaluate(s)"
   ]
  },
  {
   "cell_type": "code",
   "execution_count": 28,
   "metadata": {},
   "outputs": [
    {
     "name": "stdout",
     "output_type": "stream",
     "text": [
      "The quick brown fox jumps over the lazy dog.\n",
      "The quick brown fox jumps over the lazy dog.\n",
      "Compression ratio: 90.1235\n"
     ]
    }
   ],
   "source": [
    "llm_zip = LLMCompression(\n",
    "    llm_name=\"meta-llama/Llama-3.2-1B\",\n",
    "    context_size=8\n",
    ")\n",
    "s = \"The quick brown fox jumps over the lazy dog.\"\n",
    "# s = \"The rapid advancement of technology has dramatically reshaped the way humans live, work, and interact with the world. In just a few decades, society has transitioned from relying on traditional forms of communication, such as letters and landline telephones, to an era dominated by smartphones, social media, and artificial intelligence. This transformation has brought numerous benefits, making information more accessible, improving efficiency in various industries, and enhancing global connectivity. However, it has also introduced new challenges, including privacy concerns, the digital divide, and the potential for job displacement due to automation. One of the most significant changes driven by technology is the way people communicate. In the past, communication was often slow and limited to physical mail, face-to-face conversations, or expensive long-distance phone calls. Today, instant messaging, video conferencing, and social media platforms allow individuals to stay connected regardless of geographic location. This has strengthened personal relationships, enabled remote work opportunities, and facilitated the exchange of ideas on a global scale. However, the convenience of digital communication has also led to a decline in face-to-face interactions, raising concerns about its impact on social skills and mental health. Moreover, the rise of misinformation and the spread of fake news through digital platforms pose a significant challenge in today's interconnected world. The ability to share information instantly means that false narratives can gain traction quickly, influencing public opinion and even political outcomes. While technology companies have implemented algorithms and fact-checking mechanisms to combat misinformation, the responsibility ultimately lies with users to critically evaluate the information they consume and share. The integration of artificial intelligence and automation has also transformed various industries, improving productivity and efficiency. In healthcare, AI-powered diagnostic tools assist doctors in identifying diseases more accurately, while robotic surgeries enable precision procedures. In the business sector, automation streamlines supply chains, enhances customer service through chatbots, and improves decision-making with data-driven insights. Despite these advantages, the increasing reliance on technology raises concerns about job displacement, as automation continues to replace human workers in certain roles. This shift necessitates a focus on reskilling and upskilling workers to prepare them for the evolving job market. Education systems must adapt to equip students with the skills needed for the digital age, including proficiency in coding, data analysis, and critical thinking. Additionally, ethical considerations surrounding artificial intelligence must be addressed, ensuring that AI systems are developed and used responsibly. Cybersecurity is another pressing issue in the digital era. With the rise of online transactions, cloud computing, and interconnected devices, cyber threats have become more sophisticated. Data breaches, hacking attempts, and identity theft pose risks to individuals and organizations alike. As a result, cybersecurity measures must continually evolve to protect sensitive information and maintain trust in digital platforms. While technology has undoubtedly improved many aspects of life, it is essential to strike a balance between embracing innovation and addressing its challenges. Responsible use, ethical considerations, and continued education will play a crucial role in shaping a future where technology serves humanity in a positive and sustainable manner.\"\n",
    "# s = \":\".join(\n",
    "#     str(x)\n",
    "#     for x in random.randint(0, 5000, (50,)).tolist()\n",
    "#     # for x in random.rand(25).tolist()\n",
    "# )\n",
    "rank, pad_len = llm_zip.evaluate(s)"
   ]
  },
  {
   "cell_type": "code",
   "execution_count": 9,
   "metadata": {},
   "outputs": [
    {
     "name": "stdout",
     "output_type": "stream",
     "text": [
      "The quick brown fox jumps over the lazy dog.\n",
      "The quick brown fox jumps over the lazy dog.\n",
      "Compression ratio is: 90.1235\n"
     ]
    }
   ],
   "source": [
    "llm_zip = LLMCompression(\n",
    "    llm_name=\"meta-llama/Llama-3.2-1B\",\n",
    "    context_size=8\n",
    ")\n",
    "s = \"The quick brown fox jumps over the lazy dog.\"\n",
    "# s = \"The rapid advancement of technology has dramatically reshaped the way humans live, work, and interact with the world. In just a few decades, society has transitioned from relying on traditional forms of communication, such as letters and landline telephones, to an era dominated by smartphones, social media, and artificial intelligence. This transformation has brought numerous benefits, making information more accessible, improving efficiency in various industries, and enhancing global connectivity. However, it has also introduced new challenges, including privacy concerns, the digital divide, and the potential for job displacement due to automation. One of the most significant changes driven by technology is the way people communicate. In the past, communication was often slow and limited to physical mail, face-to-face conversations, or expensive long-distance phone calls. Today, instant messaging, video conferencing, and social media platforms allow individuals to stay connected regardless of geographic location. This has strengthened personal relationships, enabled remote work opportunities, and facilitated the exchange of ideas on a global scale. However, the convenience of digital communication has also led to a decline in face-to-face interactions, raising concerns about its impact on social skills and mental health. Moreover, the rise of misinformation and the spread of fake news through digital platforms pose a significant challenge in today's interconnected world. The ability to share information instantly means that false narratives can gain traction quickly, influencing public opinion and even political outcomes. While technology companies have implemented algorithms and fact-checking mechanisms to combat misinformation, the responsibility ultimately lies with users to critically evaluate the information they consume and share. The integration of artificial intelligence and automation has also transformed various industries, improving productivity and efficiency. In healthcare, AI-powered diagnostic tools assist doctors in identifying diseases more accurately, while robotic surgeries enable precision procedures. In the business sector, automation streamlines supply chains, enhances customer service through chatbots, and improves decision-making with data-driven insights. Despite these advantages, the increasing reliance on technology raises concerns about job displacement, as automation continues to replace human workers in certain roles. This shift necessitates a focus on reskilling and upskilling workers to prepare them for the evolving job market. Education systems must adapt to equip students with the skills needed for the digital age, including proficiency in coding, data analysis, and critical thinking. Additionally, ethical considerations surrounding artificial intelligence must be addressed, ensuring that AI systems are developed and used responsibly. Cybersecurity is another pressing issue in the digital era. With the rise of online transactions, cloud computing, and interconnected devices, cyber threats have become more sophisticated. Data breaches, hacking attempts, and identity theft pose risks to individuals and organizations alike. As a result, cybersecurity measures must continually evolve to protect sensitive information and maintain trust in digital platforms. While technology has undoubtedly improved many aspects of life, it is essential to strike a balance between embracing innovation and addressing its challenges. Responsible use, ethical considerations, and continued education will play a crucial role in shaping a future where technology serves humanity in a positive and sustainable manner.\"\n",
    "# s = \":\".join(\n",
    "#     str(x)\n",
    "#     for x in random.randint(0, 5000, (50,)).tolist()\n",
    "#     # for x in random.rand(25).tolist()\n",
    "# )\n",
    "rank, pad_len = llm_zip.evaluate(s)"
   ]
  },
  {
   "cell_type": "code",
   "execution_count": null,
   "metadata": {},
   "outputs": [],
   "source": [
    "s = \"The rapid advancement of technology has dramatically reshaped the way humans live, work, and interact with the world. In just a few decades, society has transitioned from relying on traditional forms of communication, such as letters and landline telephones, to an era dominated by smartphones, social media, and artificial intelligence. This transformation has brought numerous benefits, making information more accessible, improving efficiency in various industries, and enhancing global connectivity. However, it has also introduced new challenges, including privacy concerns, the digital divide, and the potential for job displacement due to automation. One of the most significant changes driven by technology is the way people communicate. In the past, communication was often slow and limited to physical mail, face-to-face conversations, or expensive long-distance phone calls. Today, instant messaging, video conferencing, and social media platforms allow individuals to stay connected regardless of geographic location. This has strengthened personal relationships, enabled remote work opportunities, and facilitated the exchange of ideas on a global scale. However, the convenience of digital communication has also led to a decline in face-to-face interactions, raising concerns about its impact on social skills and mental health. Moreover, the rise of misinformation and the spread of fake news through digital platforms pose a significant challenge in today's interconnected world. The ability to share information instantly means that false narratives can gain traction quickly, influencing public opinion and even political outcomes. While technology companies have implemented algorithms and fact-checking mechanisms to combat misinformation, the responsibility ultimately lies with users to critically evaluate the information they consume and share. The integration of artificial intelligence and automation has also transformed various industries, improving productivity and efficiency. In healthcare, AI-powered diagnostic tools assist doctors in identifying diseases more accurately, while robotic surgeries enable precision procedures. In the business sector, automation streamlines supply chains, enhances customer service through chatbots, and improves decision-making with data-driven insights. Despite these advantages, the increasing reliance on technology raises concerns about job displacement, as automation continues to replace human workers in certain roles. This shift necessitates a focus on reskilling and upskilling workers to prepare them for the evolving job market. Education systems must adapt to equip students with the skills needed for the digital age, including proficiency in coding, data analysis, and critical thinking. Additionally, ethical considerations surrounding artificial intelligence must be addressed, ensuring that AI systems are developed and used responsibly. Cybersecurity is another pressing issue in the digital era. With the rise of online transactions, cloud computing, and interconnected devices, cyber threats have become more sophisticated. Data breaches, hacking attempts, and identity theft pose risks to individuals and organizations alike. As a result, cybersecurity measures must continually evolve to protect sensitive information and maintain trust in digital platforms. While technology has undoubtedly improved many aspects of life, it is essential to strike a balance between embracing innovation and addressing its challenges. Responsible use, ethical considerations, and continued education will play a crucial role in shaping a future where technology serves humanity in a positive and sustainable manner.\"\n"
   ]
  },
  {
   "cell_type": "code",
   "execution_count": null,
   "metadata": {},
   "outputs": [],
   "source": [
    "\n",
    "compressed_s = bz2.compress(s.encode('utf-8'))\n",
    "\n",
    "compressed_s_hat = bz2.compress(rank.cpu().numpy().tobytes())\n",
    "\n",
    "print(len(compressed_s_hat), len(compressed_s))\n",
    "print(f\"Compression ratio is: {(len(compressed_s_hat) / len(compressed_s))*100:.4f}\")"
   ]
  }
 ],
 "metadata": {
  "kernelspec": {
   "display_name": "llm",
   "language": "python",
   "name": "python3"
  },
  "language_info": {
   "codemirror_mode": {
    "name": "ipython",
    "version": 3
   },
   "file_extension": ".py",
   "mimetype": "text/x-python",
   "name": "python",
   "nbconvert_exporter": "python",
   "pygments_lexer": "ipython3",
   "version": "3.10.16"
  }
 },
 "nbformat": 4,
 "nbformat_minor": 2
}
