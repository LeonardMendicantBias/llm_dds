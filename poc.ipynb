{
 "cells": [
  {
   "cell_type": "code",
   "execution_count": 1,
   "metadata": {},
   "outputs": [],
   "source": [
    "from typing import List\n",
    "\n",
    "import math\n",
    "import cv2\n",
    "from PIL import Image\n",
    "import numpy as np\n",
    "import matplotlib.pyplot as plt\n",
    "\n",
    "import pickle\n",
    "import bz2\n",
    "\n",
    "import torch\n",
    "\n",
    "from transformers import AutoTokenizer, AutoModelForCausalLM, BitsAndBytesConfig, LlamaForCausalLM"
   ]
  },
  {
   "cell_type": "code",
   "execution_count": 10,
   "metadata": {},
   "outputs": [
    {
     "data": {
      "text/plain": [
       "((32, 32, 3), dtype('uint8'))"
      ]
     },
     "execution_count": 10,
     "metadata": {},
     "output_type": "execute_result"
    }
   ],
   "source": [
    "# img = cv2.imread(\"./ILSVRC2012_val_00003014.JPEG\", cv2.IMREAD_COLOR)\n",
    "# img = cv2.resize(img, (224, 224))\n",
    "\n",
    "img = cv2.imread(\"./0000.jpg\", cv2.IMREAD_COLOR)\n",
    "\n",
    "img.shape, img.dtype"
   ]
  },
  {
   "cell_type": "code",
   "execution_count": 11,
   "metadata": {},
   "outputs": [
    {
     "name": "stdout",
     "output_type": "stream",
     "text": [
      "patches (64, 48)\n",
      "tokens torch.Size([64, 96])\n"
     ]
    }
   ],
   "source": [
    "class LLMCompression:\n",
    "\n",
    "\tdef __init__(self,\n",
    "\t\tllm_name: str,\n",
    "\t\tcontext_size: int,\n",
    "\t\tpatch_size: int, # context_window: int,\n",
    "\t\tcolor_sep: str=\"-\",\n",
    "\t\tpixel_sep: str=\"|\",\n",
    "\t\tm_batches: int=4,\n",
    "\t):\n",
    "\t\tself.llm_name = llm_name\n",
    "\t\tself.llm = AutoModelForCausalLM.from_pretrained(\n",
    "\t\t\tllm_name,\n",
    "\t\t\t# torch_dtype=torch.bfloat16,\n",
    "\t\t\ttorch_dtype=torch.float32,\n",
    "\t\t\tlow_cpu_mem_usage=True,\n",
    "\t\t\t# load_in_4bit=True,\n",
    "\t\t\t# quantization_config=quantization_config,\n",
    "\t\t\t# device_map=torch.device(\"cuda\"),\n",
    "\t\t\tdevice_map=\"auto\"\n",
    "\t\t\t# device_map=\"cpu\"\n",
    "\t\t)\n",
    "\t\tself.llm.eval()\n",
    "\t\tfor param in self.llm.parameters():\n",
    "\t\t\tparam.requires_grad = False\n",
    "\t\tself.tokenizer = AutoTokenizer.from_pretrained(llm_name)\n",
    "\n",
    "\t\tself.m_batches = m_batches\n",
    "\t\tself.context_size = context_size\n",
    "\t\tself.patch_size = patch_size\n",
    "\t\tself.color_sep = color_sep\n",
    "\t\tself.pixel_sep = pixel_sep\n",
    "\t\tself.words = ['0', '1', '2', '3', '4', '5', '6', '7', '8', '9', '.', self.color_sep, self.pixel_sep]\n",
    "\t\tself.tokens = self.tokenizer(self.words, add_special_tokens=False)\n",
    "\t\tself.tokens = [x for xs in self.tokens[\"input_ids\"] for x in xs]\n",
    "\n",
    "\t\tself.word2token = {w: idx for w, idx in zip(self.words, self.tokens)}\n",
    "\t\tself.token2word = {idx: w for idx, w in zip(self.tokens, self.words)}\n",
    "\t\n",
    "\t# rank from \"stable\" sort\n",
    "\tdef _get_rank(self, logits, token_ids):  # (B, N, V) (B, N)\n",
    "\t\t'''\n",
    "\t\t\tRank: how many logits are larger than the token logits\n",
    "\t\t\t1/ The number of values less than token_ids\n",
    "\t\t\t2/ The number of values equal with token_ids\n",
    "\t\t'''\n",
    "\t\t# count the strictly the number of greater values\n",
    "\t\tselected_logits = logits.gather(-1, token_ids[..., None]).squeeze(-1)\n",
    "\t\tn_gt = (logits > selected_logits[..., None]).sum(-1)  # (B, N)\n",
    "\n",
    "\t\t# \"mimic\" stable sorting\n",
    "\t\teq = logits.eq(selected_logits[..., None])  # (B, N, V)\n",
    "\t\tmask = torch.arange(logits.shape[-1], device=logits.device) < token_ids.unsqueeze(-1)\n",
    "\t\tn_eq = (eq*mask).sum(-1)\n",
    "\n",
    "\t\treturn n_gt + n_eq\n",
    "\t\n",
    "\tdef encode(self, img):\n",
    "\t\tp_size = self.patch_size\n",
    "\t\tm_batches = self.m_batches\n",
    "\n",
    "\t\tpatches = np.array([\n",
    "\t\t\timg[i*p_size:(i+1)*p_size, j*p_size:(j+1)*p_size, :].flatten()\n",
    "\t\t\tfor i in range(img.shape[0]//p_size)\n",
    "\t\t\tfor j in range(img.shape[1]//p_size)\n",
    "\t\t])\n",
    "\t\tprint(\"patches\", patches.shape)\n",
    "\n",
    "\t\ttokens = self.patch2tokens(patches)\n",
    "\t\ttokens = tokens[\"input_ids\"].squeeze()\n",
    "\t\ttokens = tokens.to(self.llm.device)\n",
    "\t\tprint(\"tokens\", tokens.shape)\n",
    "\n",
    "\t\tranks = torch.empty([tokens.shape[0], tokens.shape[1]-1], requires_grad=False, dtype=torch.int64)\n",
    "\t\tfor i in range(math.ceil(tokens.shape[0] // m_batches)):\n",
    "\t\t\ttorch.cuda.empty_cache()\n",
    "\t\t\t_tokens = tokens[i*m_batches:(i+1)*m_batches]\n",
    "\t\t\toutput = self.llm(_tokens[:, :-1], use_cache=False)\n",
    "\t\t\tranks[i*m_batches:(i+1)*m_batches] = self._get_rank(output.logits, _tokens[:, 1:])\n",
    "\t\th, w = img.shape[0] // p_size, img.shape[1] // p_size\n",
    "\t\treturn ranks, h, w\n",
    "\n",
    "\tdef decode(self, rank: List[int], h, w):  # (P, N)\n",
    "\t\tm_batches = self.m_batches\n",
    "\t\tpatch_size = self.patch_size\n",
    "\t\t\n",
    "\t\trecon_tokens = torch.empty_like(rank)\n",
    "\t\tfor i in range(math.ceil(rank.shape[0]) // m_batches):\n",
    "\t\t\ttorch.cuda.empty_cache()\n",
    "\t\t\t_h, _w = i // w, i % w\n",
    "\t\t\t_rank = rank[i*m_batches:(i+1)*m_batches]\n",
    "\n",
    "\t\t\tgenerated_ids = torch.full((_rank.shape[0], 1), self.tokenizer.bos_token_id).cuda()\n",
    "\t\t\t\n",
    "\t\t\tpast_key_values = None\n",
    "\t\t\tfor idx in range(_rank.shape[-1]):\n",
    "\t\t\t\toutput = self.llm(generated_ids, past_key_values=past_key_values, use_cache=False)\n",
    "\t\t\t\tpast_key_values = output.past_key_values\n",
    "\n",
    "\t\t\t\tlogits = output.logits[:, -1, :]  # shape: (n_chunks, vocab)\n",
    "\t\t\t\tlogits, sorted_tokens = torch.sort(logits, descending=True, stable=True)\n",
    "\n",
    "\t\t\t\tnext_token_id = sorted_tokens.gather(-1, _rank[:, idx].cuda().unsqueeze(-1))\n",
    "\n",
    "\t\t\t\tgenerated_ids = torch.cat([generated_ids, next_token_id], dim=1)\n",
    "\t\t\trecon_tokens[i*m_batches:(i+1)*m_batches] = generated_ids[:, 1:]\n",
    "\t\t\t\n",
    "\t\t# recon_img = np.empty((h*llm_zip.patch_size, w*llm_zip.patch_size, 3), dtype=np.uint8)\n",
    "\t\t\t# recon_img[_h*patch_size:(_h+1)*patch_size, _w*patch_size:(_w+1)*patch_size, :] = array\n",
    "\t\treturn recon_tokens\n",
    "\n",
    "\tdef evaluate(self, s):\n",
    "\t\trank, pad_len = self.encode(s)\n",
    "\t\ttorch.cuda.empty_cache()\n",
    "\n",
    "\t\ts_hat = self.decode(rank, pad_len)\n",
    "\t\tassert s_hat == s, f\"incorrect (de)-compression \\n Expected: {s} \\n Got: {s_hat}\"\n",
    "\n",
    "\t\tcompressed_s = bz2.compress(s.encode('utf-8'))\n",
    "\t\t_rank = rank.flatten()\n",
    "\t\tcompressed_s_hat = bz2.compress(_rank.cpu().numpy().tobytes())\n",
    "\n",
    "\t\t# Get the size of the compressed data\n",
    "\t\ts_size = len(compressed_s)\n",
    "\t\ts_hat_size = len(compressed_s_hat)\n",
    "\t\t# print(s_hat_size, s_size)\n",
    "\t\tprint(f\"Compression ratio: {(s_hat_size / s_size)*100:.4f}\")\n",
    "\n",
    "\t\treturn _rank, pad_len\n",
    "\t\n",
    "\tdef patch2tokens(self, patches):\n",
    "\t\tsequences = [\n",
    "\t\t\tf'{self.pixel_sep}'.join([\n",
    "\t\t\t\tf'{self.color_sep}'.join([\n",
    "\t\t\t\t\tstr(num) for num in patch[i*3:(i+1)*3]\n",
    "\t\t\t\t]) for i in range(len(patch)//3)\n",
    "\t\t\t])\n",
    "\t\t\tfor patch in patches\n",
    "\t\t]\n",
    "\t\treturn self.tokenizer(sequences, return_tensors=\"pt\")\n",
    "\t\n",
    "\tdef tokens2patch(self, tokens, h, w):\n",
    "\t\tp_size = llm_zip.patch_size\n",
    "\t\tpatches = np.array([\n",
    "\t\t\timg[i*p_size:(i+1)*p_size, j*p_size:(j+1)*p_size, :].flatten()\n",
    "\t\t\tfor i in range(img.shape[0]//p_size)\n",
    "\t\t\tfor j in range(img.shape[1]//p_size)\n",
    "\t\t])\n",
    "\t\tprint(\"patches\", patches.shape)\n",
    "\n",
    "\t\ttokens = llm_zip.patch2tokens(patches)\n",
    "\t\ttokens = tokens[\"input_ids\"].squeeze()\n",
    "\t\ttokens = tokens.to(llm_zip.llm.device)\n",
    "\t\tprint(\"tokens\", tokens.shape)\n",
    "\n",
    "\t\tdecs = [\n",
    "\t\t\tllm_zip.tokenizer.decode(token, skip_special_tokens=True)\n",
    "\t\t\tfor token in tokens\n",
    "\t\t]\n",
    "\t\tarrays = [\n",
    "\t\t\tnp.array([\n",
    "\t\t\t\td.split(llm_zip.color_sep)\n",
    "\t\t\t\tfor d in dec.split(llm_zip.pixel_sep)\n",
    "\t\t\t]).reshape((llm_zip.patch_size, llm_zip.patch_size, 3))\n",
    "\t\t\tfor dec in decs\n",
    "\t\t]\n",
    "\n",
    "\t\trecon_img = np.empty((h*llm_zip.patch_size, w*llm_zip.patch_size, 3), dtype=np.uint8)\n",
    "\n",
    "\t\tpatch_size = llm_zip.patch_size\n",
    "\t\tfor i, array in enumerate(arrays):\n",
    "\t\t\t_h, _w = i // w, i % w\n",
    "\t\t\trecon_img[_h*patch_size:(_h+1)*patch_size, _w*patch_size:(_w+1)*patch_size, :] = array\n",
    "\t\treturn recon_img\n",
    "\n",
    "llm_zip = LLMCompression(\n",
    "\t# llm_name=\"meta-llama/Llama-3.2-3B\",\n",
    "\tllm_name=\"meta-llama/Llama-3.2-1B\",\n",
    "\t# llm_name=\"unsloth/Llama-3.2-1B-bnb-4bit\",\n",
    "\tcontext_size=256,\n",
    "\tpatch_size=4,\n",
    "\tm_batches=8\n",
    ")\n",
    "ranks, h, w = llm_zip.encode(img)"
   ]
  },
  {
   "cell_type": "code",
   "execution_count": 12,
   "metadata": {},
   "outputs": [],
   "source": [
    "recon_tokens = llm_zip.decode(ranks, h, w)"
   ]
  },
  {
   "cell_type": "code",
   "execution_count": 13,
   "metadata": {},
   "outputs": [
    {
     "data": {
      "text/plain": [
       "('197-202-200|199-204-202|200-205-203|200-205-203|207-212-210|204-209-207|205-210-208|209-214-212|211-214-212|207-210-208|211-214-212|218-221-219|209-212-210|210-213-211|212-215-213|215-218-216',\n",
       " '148th birthday of the Holocaust Anniversaries\\nThe 99th anniversary of the Holocaust\\nThe first anniversary of the explosion of Operation Protective Edge\\n7th anniversary of the assassination attempt on the President of the US\\nThe 100th Syngma\\nThe 215th birth anniversary of the Torah\\nThe 100th commemoration of the death of Adam Weisel\\n100th holocaust commemoration\\nThe celebration of 100 years of Eretz Yis')"
      ]
     },
     "execution_count": 13,
     "metadata": {},
     "output_type": "execute_result"
    }
   ],
   "source": [
    "decs = [\n",
    "\tllm_zip.tokenizer.decode(token, skip_special_tokens=True)\n",
    "\tfor token in recon_tokens\n",
    "]\n",
    "decs[0], decs[21]"
   ]
  },
  {
   "cell_type": "code",
   "execution_count": 15,
   "metadata": {},
   "outputs": [
    {
     "name": "stdout",
     "output_type": "stream",
     "text": [
      "(16, 3)\n",
      "(16, 3)\n",
      "(16, 3)\n",
      "(16, 3)\n",
      "(16, 3)\n",
      "(16, 3)\n",
      "(16, 3)\n",
      "(16, 3)\n",
      "(16, 3)\n",
      "(16, 3)\n",
      "(16, 3)\n",
      "(16, 3)\n",
      "(16, 3)\n",
      "(16, 3)\n",
      "(16, 3)\n",
      "(16, 3)\n",
      "(16, 3)\n",
      "(16, 3)\n",
      "(16, 3)\n",
      "(16, 3)\n",
      "(16, 3)\n",
      "(1, 1)\n",
      "(16, 3)\n",
      "(16, 3)\n",
      "(16, 3)\n",
      "(16, 3)\n",
      "(16, 3)\n",
      "(16, 3)\n",
      "(16, 3)\n",
      "(16, 3)\n",
      "(16, 3)\n",
      "(16, 3)\n",
      "(16, 3)\n",
      "(16, 3)\n",
      "(16, 3)\n",
      "(16, 3)\n",
      "(16, 3)\n",
      "(16, 3)\n",
      "(16, 3)\n",
      "(16, 3)\n",
      "(16, 3)\n",
      "(16, 3)\n",
      "(16, 3)\n",
      "(16, 3)\n",
      "(16, 3)\n",
      "(16, 3)\n",
      "(16, 3)\n",
      "(16, 3)\n",
      "(16, 3)\n",
      "(16, 3)\n",
      "(16, 3)\n",
      "(16, 3)\n",
      "(16, 3)\n",
      "(16, 3)\n",
      "(16, 3)\n",
      "(16, 3)\n",
      "(16, 3)\n",
      "(16, 3)\n",
      "(16, 3)\n",
      "(16, 3)\n",
      "(16, 3)\n",
      "(16, 3)\n",
      "(16, 3)\n",
      "(16, 3)\n"
     ]
    }
   ],
   "source": [
    "\n",
    "arrays = [\n",
    "\tnp.array([\n",
    "\t\td.split(llm_zip.color_sep)\n",
    "\t\tfor d in dec.split(llm_zip.pixel_sep)\n",
    "\t])#.reshape((llm_zip.patch_size, llm_zip.patch_size, 3))\n",
    "\tfor dec in decs\n",
    "]\n",
    "for array in arrays:\n",
    "    print(array.shape)"
   ]
  },
  {
   "cell_type": "code",
   "execution_count": 16,
   "metadata": {},
   "outputs": [
    {
     "data": {
      "image/png": "[encoded data removed]",
      "text/plain": [
       "<Figure size 640x480 with 1 Axes>"
      ]
     },
     "metadata": {},
     "output_type": "display_data"
    }
   ],
   "source": [
    "\n",
    "arrays = [\n",
    "\tnp.array([\n",
    "\t\td.split(llm_zip.color_sep)\n",
    "\t\tfor d in dec.split(llm_zip.pixel_sep)\n",
    "\t])#.reshape((llm_zip.patch_size, llm_zip.patch_size, 3))\n",
    "\tfor dec in decs\n",
    "]\n",
    "\n",
    "recon_img = np.empty((h*llm_zip.patch_size, w*llm_zip.patch_size, 3), dtype=np.uint8)\n",
    "\n",
    "patch_size = llm_zip.patch_size\n",
    "for i, array in enumerate(arrays):\n",
    "\t_h, _w = i // w, i % w\n",
    "\tif array.shape == (1, 1): continue\n",
    "\trecon_img[_h*patch_size:(_h+1)*patch_size, _w*patch_size:(_w+1)*patch_size, :] = array.reshape((llm_zip.patch_size, llm_zip.patch_size, 3))\n",
    "plt.imshow(recon_img)\n",
    "plt.show()"
   ]
  },
  {
   "cell_type": "code",
   "execution_count": null,
   "metadata": {},
   "outputs": [],
   "source": [
    "patches[21]"
   ]
  },
  {
   "cell_type": "code",
   "execution_count": null,
   "metadata": {},
   "outputs": [],
   "source": [
    "h, w = img.shape[0] // llm_zip.patch_size, img.shape[1] // llm_zip.patch_size\n",
    "\n",
    "p_size = llm_zip.patch_size\n",
    "patches = np.array([\n",
    "\timg[i*p_size:(i+1)*p_size, j*p_size:(j+1)*p_size, :].flatten()\n",
    "\tfor i in range(img.shape[0]//p_size)\n",
    "\tfor j in range(img.shape[1]//p_size)\n",
    "])\n",
    "print(\"patches\", patches.shape)\n",
    "\n",
    "tokens = llm_zip.patch2tokens(patches)\n",
    "tokens = tokens[\"input_ids\"].squeeze()\n",
    "tokens = tokens.to(llm_zip.llm.device)\n",
    "print(\"tokens\", tokens.shape)\n",
    "\n",
    "decs = [\n",
    "    llm_zip.tokenizer.decode(token, skip_special_tokens=True)\n",
    "    for token in tokens\n",
    "]\n",
    "arrays = [\n",
    "    np.array([\n",
    "        d.split(llm_zip.color_sep)\n",
    "    \tfor d in dec.split(llm_zip.pixel_sep)\n",
    "\t]).reshape((llm_zip.patch_size, llm_zip.patch_size, 3))\n",
    "    for dec in decs\n",
    "]\n",
    "\n",
    "recon_img = np.empty((h*llm_zip.patch_size, w*llm_zip.patch_size, 3), dtype=np.uint8)\n",
    "\n",
    "patch_size = llm_zip.patch_size\n",
    "for i, array in enumerate(arrays):\n",
    "    _h, _w = i // w, i % w\n",
    "    recon_img[_h*patch_size:(_h+1)*patch_size, _w*patch_size:(_w+1)*patch_size, :] = array\n",
    "plt.imshow(recon_img)\n",
    "plt.show()"
   ]
  },
  {
   "cell_type": "code",
   "execution_count": null,
   "metadata": {},
   "outputs": [],
   "source": [
    "recon_img.shape, img.shape, recon_img.dtype, img.dtype"
   ]
  },
  {
   "cell_type": "code",
   "execution_count": null,
   "metadata": {},
   "outputs": [],
   "source": [
    "plt.imshow(img)\n",
    "plt.show()"
   ]
  },
  {
   "cell_type": "code",
   "execution_count": null,
   "metadata": {},
   "outputs": [],
   "source": [
    "%timeit llm_zip.encode(img)"
   ]
  },
  {
   "cell_type": "code",
   "execution_count": null,
   "metadata": {},
   "outputs": [],
   "source": [
    "%timeit llm_zip.decode(rank, pad_len)"
   ]
  },
  {
   "cell_type": "code",
   "execution_count": null,
   "metadata": {},
   "outputs": [],
   "source": [
    "words = ['0', '1', '2', '3', '4', '5', '6', '7', '8', '9', '.', '-', \"|\"]\n",
    "tokens = llm_zip.tokenizer(words, add_special_tokens=False)\n",
    "tokens = [x for xs in tokens[\"input_ids\"] for x in xs]\n",
    "\n",
    "word2token = {w: idx for w, idx in zip(words, tokens)}\n",
    "token2word = {idx: w for idx, w in zip(tokens, words)}\n",
    "word2token, token2word"
   ]
  },
  {
   "cell_type": "code",
   "execution_count": null,
   "metadata": {},
   "outputs": [],
   "source": [
    "l = ranks.flatten().tolist()"
   ]
  },
  {
   "cell_type": "code",
   "execution_count": null,
   "metadata": {},
   "outputs": [],
   "source": [
    "len(bz2.compress(pickle.dumps(l)))"
   ]
  },
  {
   "cell_type": "code",
   "execution_count": null,
   "metadata": {},
   "outputs": [],
   "source": [
    "len(bz2.compress(img))"
   ]
  },
  {
   "cell_type": "code",
   "execution_count": null,
   "metadata": {},
   "outputs": [],
   "source": [
    "len(bz2.compress(pickle.dumps([0 for _ in range(10)])))"
   ]
  }
 ],
 "metadata": {
  "kernelspec": {
   "display_name": "llm",
   "language": "python",
   "name": "python3"
  },
  "language_info": {
   "codemirror_mode": {
    "name": "ipython",
    "version": 3
   },
   "file_extension": ".py",
   "mimetype": "text/x-python",
   "name": "python",
   "nbconvert_exporter": "python",
   "pygments_lexer": "ipython3",
   "version": "3.10.16"
  }
 },
 "nbformat": 4,
 "nbformat_minor": 2
}
