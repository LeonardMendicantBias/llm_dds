{
 "cells": [
  {
   "cell_type": "code",
   "execution_count": 1,
   "metadata": {},
   "outputs": [],
   "source": [
    "from typing import List\n",
    "\n",
    "import torch\n",
    "import torch.nn.functional as F\n",
    "\n",
    "from numpy import random\n",
    "import bz2\n",
    "\n",
    "from transformers import AutoTokenizer, AutoModelForCausalLM, BitsAndBytesConfig"
   ]
  },
  {
   "cell_type": "markdown",
   "metadata": {},
   "source": [
    "Network"
   ]
  },
  {
   "cell_type": "code",
   "execution_count": 2,
   "metadata": {},
   "outputs": [],
   "source": [
    "model_name = \"meta-llama/Llama-3.2-1B\"\n",
    "\n",
    "quant_config = BitsAndBytesConfig(\n",
    "    load_in_4bit=True,\n",
    "    bnb_4bit_compute_dtype=torch.bfloat16,\n",
    "    bnb_4bit_use_double_quant=True,\n",
    ")\n",
    "llm = AutoModelForCausalLM.from_pretrained(\n",
    "    model_name,\n",
    "    torch_dtype=torch.bfloat16,\n",
    "    quantization_config=quant_config,\n",
    "    # device_map=torch.device(\"cuda\"),w\n",
    "    device_map=\"auto\"\n",
    ")\n",
    "llm.eval()\n",
    "\n",
    "tokenizer = AutoTokenizer.from_pretrained(model_name)"
   ]
  },
  {
   "cell_type": "markdown",
   "metadata": {},
   "source": [
    "Configuration"
   ]
  },
  {
   "cell_type": "code",
   "execution_count": null,
   "metadata": {},
   "outputs": [
    {
     "name": "stdout",
     "output_type": "stream",
     "text": [
      "tensor([0, 0], device='cuda:0')\n",
      "tensor([0, 0], device='cuda:0')\n",
      "tensor([0, 0], device='cuda:0')\n"
     ]
    }
   ],
   "source": [
    "class LLMCompression:\n",
    "\n",
    "    def __init__(self,\n",
    "        llm_name: str,\n",
    "        context_size: int, # context_window: int,\n",
    "    ):\n",
    "        self.llm_name = llm_name\n",
    "        quant_config = BitsAndBytesConfig(\n",
    "            load_in_4bit=True,\n",
    "            bnb_4bit_compute_dtype=torch.bfloat16,  # Use bfloat16 for better performance\n",
    "            bnb_4bit_use_double_quant=True,  # Double quantization for memory efficiency\n",
    "        )\n",
    "        self.llm = AutoModelForCausalLM.from_pretrained(\n",
    "            llm_name,\n",
    "            quantization_config=quant_config,\n",
    "            # device_map=torch.device(\"cuda\"),\n",
    "            device_map=\"auto\"\n",
    "        )\n",
    "        self.llm.eval()\n",
    "        self.tokenizer = AutoTokenizer.from_pretrained(llm_name)\n",
    "\n",
    "        self.context_size = context_size\n",
    "    \n",
    "    def _pad(self, tokens):\n",
    "        if tokens.shape[0] % self.context_size == 0:\n",
    "            return tokens, torch.zeros(tokens.shape[0], device=tokens.device)\n",
    "        pad_len = self.context_size - tokens.shape[0] % self.context_size\n",
    "\n",
    "        pads = torch.full([pad_len], self.tokenizer.eos_token_id, device=tokens.device)\n",
    "        padded_tokens = torch.cat([tokens, pads])\n",
    "\n",
    "        return padded_tokens, pad_len\n",
    "    \n",
    "    # rank from \"stable\" sort\n",
    "    def _get_rank(self, logits, token_ids):  # (B, N, V) (B, N)\n",
    "        # count the strictly the number of greater values\n",
    "        # print(logits.shape, token_ids.shape)\n",
    "        selected_logits = logits.gather(-1, token_ids[..., None]).squeeze(-1)\n",
    "        n_gt = (logits > selected_logits[..., None]).sum(-1)  # (B, N)\n",
    "\n",
    "        # \"mimic\" stable sorting\n",
    "        eq = logits.eq(selected_logits[..., None])  # (B, N, V)\n",
    "        mask = torch.arange(logits.shape[-1], device=logits.device) < token_ids.unsqueeze(-1)\n",
    "        n_eq = (eq*mask).sum(-1)\n",
    "\n",
    "        return n_gt + n_eq\n",
    "    \n",
    "    def argsort_solution(self, logits, targets):\n",
    "        sort = torch.argsort(-logits, -1)\n",
    "        return torch.where(sort == targets[:, None])[1]\n",
    "\n",
    "    @torch.no_grad\n",
    "    def encode(self, s):\n",
    "        tokens = self.tokenizer(s, return_tensors=\"pt\")\n",
    "        tokens = tokens[\"input_ids\"].squeeze()\n",
    "        tokens = tokens.to(self.llm.device)\n",
    "\n",
    "        tokens, pad_len = self._pad(tokens[1:])\n",
    "        tokens = tokens.view(-1, self.context_size)\n",
    "\n",
    "        bos = torch.full([tokens.shape[0]], self.tokenizer.bos_token_id, device=tokens.device).unsqueeze(1)\n",
    "        tokens = torch.cat((bos, tokens), 1)\n",
    "\n",
    "        ranks = torch.empty_like(tokens[:, :-1])\n",
    "        for idx in range(self.context_size):\n",
    "            next_tokens = self.llm(tokens[:, :idx+1])\n",
    "            \n",
    "            rank = self._get_rank(next_tokens.logits[:, -1, :], tokens[:, idx+1])\n",
    "            ranks[:, idx] = rank\n",
    "\n",
    "        # output = self.llm(tokens[:, :-1])\n",
    "        # ranks = self._get_rank(output.logits, tokens[:, 1:])\n",
    "\n",
    "        return ranks, pad_len\n",
    "\n",
    "    @torch.no_grad\n",
    "    def decode(self, rank: List[int], pad_len: int):\n",
    "        generated_ids = torch.full((rank.shape[0], 1), tokenizer.bos_token_id, device=rank.device)\n",
    "        \n",
    "        for idx in range(self.context_size):\n",
    "            output = self.llm(generated_ids)\n",
    "\n",
    "            logits = output.logits[:, -1, :]  # shape: (n_chunks, vocab)\n",
    "            logits, sorted_tokens = torch.sort(logits, descending=True, stable=True)\n",
    "\n",
    "            next_token_id = sorted_tokens.gather(-1, rank[:, idx].unsqueeze(-1))\n",
    "\n",
    "            generated_ids = torch.cat([generated_ids, next_token_id], dim=1)\n",
    "\n",
    "        output = generated_ids[:, 1:].flatten()\n",
    "        return tokenizer.decode(output[:-pad_len], skip_special_tokens=True)\n",
    "\n",
    "    def evaluate(self, s):\n",
    "        rank, pad_len = self.encode(s)\n",
    "        torch.cuda.empty_cache()\n",
    "\n",
    "        s_hat = self.decode(rank, pad_len)\n",
    "        assert s_hat == s, f\"incorrect (de)-compression \\n Expected: {s} \\n Got: {s_hat}\"\n",
    "\n",
    "        compressed_s = bz2.compress(s.encode('utf-8'))\n",
    "        _rank = rank.flatten()\n",
    "        compressed_s_hat = bz2.compress(_rank.cpu().numpy().tobytes())\n",
    "\n",
    "        # Get the size of the compressed data\n",
    "        s_size = len(compressed_s)\n",
    "        s_hat_size = len(compressed_s_hat)\n",
    "        # print(s_hat_size, s_size)\n",
    "        print(f\"Compression ratio: {(s_hat_size / s_size)*100:.4f}\")\n",
    "\n",
    "        return _rank, pad_len\n",
    "\n",
    "llm_zip = LLMCompression(\n",
    "    llm_name=\"meta-llama/Llama-3.2-1B\",\n",
    "    context_size=8\n",
    ")\n",
    "s = \"The quick brown fox jumps over the lazy dog.\"\n",
    "_, _ = llm_zip.evaluate(s)\n"
   ]
  },
  {
   "cell_type": "code",
   "execution_count": null,
   "metadata": {},
   "outputs": [],
   "source": [
    "loop, rank: 450 ms ± 38 ms per loop (mean ± std. dev. of 7 runs, 1 loop each)\n",
    "loop, arg:  520 ms ± 28.7 ms per loop (mean ± std. dev. of 7 runs, 1 loop each)\n",
    "rank: 63.5 ms ± 3.69 ms per loop (mean ± std. dev. of 7 runs, 10 loops each)\n"
   ]
  },
  {
   "cell_type": "code",
   "execution_count": 4,
   "metadata": {},
   "outputs": [
    {
     "name": "stdout",
     "output_type": "stream",
     "text": [
      "torch.Size([5]) torch.Size([2, 3])\n"
     ]
    },
    {
     "data": {
      "text/plain": [
       "tensor([[[1, 0, 0, 0, 0],\n",
       "         [1, 0, 0, 0, 0],\n",
       "         [1, 0, 0, 0, 0]],\n",
       "\n",
       "        [[1, 1, 0, 0, 0],\n",
       "         [1, 1, 1, 1, 0],\n",
       "         [1, 1, 1, 0, 0]]], dtype=torch.int32)"
      ]
     },
     "execution_count": 4,
     "metadata": {},
     "output_type": "execute_result"
    }
   ],
   "source": [
    "\n",
    "ids = torch.tensor([\n",
    "    [1, 1, 1],\n",
    "    [2, 4, 3],\n",
    "])\n",
    "arange = torch.arange(5)\n",
    "print(arange.shape, ids.shape)\n",
    "(arange < ids.unsqueeze(-1)).int()"
   ]
  }
 ],
 "metadata": {
  "kernelspec": {
   "display_name": "llm",
   "language": "python",
   "name": "python3"
  },
  "language_info": {
   "codemirror_mode": {
    "name": "ipython",
    "version": 3
   },
   "file_extension": ".py",
   "mimetype": "text/x-python",
   "name": "python",
   "nbconvert_exporter": "python",
   "pygments_lexer": "ipython3",
   "version": "3.10.16"
  }
 },
 "nbformat": 4,
 "nbformat_minor": 2
}
